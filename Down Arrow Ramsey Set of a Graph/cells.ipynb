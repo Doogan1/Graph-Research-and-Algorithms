{
 "cells": [
  {
   "cell_type": "code",
   "execution_count": 1,
   "metadata": {},
   "outputs": [],
   "source": [
    "import matplotlib.pyplot as plt\n",
    "import networkx as nx\n",
    "import numpy as np\n",
    "import json\n",
    "import DownArrow as dn"
   ]
  },
  {
   "cell_type": "code",
   "execution_count": 3,
   "metadata": {},
   "outputs": [],
   "source": [
    "G = nx.complete_graph(6) # choose graph\n",
    "\n",
    "P = dn.Graph_Ideal(G, nx.DiGraph(), 1) #generate the ideal\n",
    "\n",
    "#diagnostic graphs = nx.get_node_attributes(P, \"graph\")\n",
    "\n",
    "positions = dn.calculate_positions(P)\n",
    "\n",
    "dn.build_and_print_json(P) #generates the json file for the ideal\n",
    "\n",
    "\n",
    "#nx.draw_networkx(P, pos=nx.spring_layout(P), with_labels=True)"
   ]
  },
  {
   "cell_type": "code",
   "execution_count": null,
   "metadata": {},
   "outputs": [],
   "source": [
    "#run this cell for a preview drawing\n",
    "plt.figure(figsize=(20, 30))\n",
    "nx.draw_networkx(P, pos=positions, with_labels=True, node_size=700, node_color=\"lightblue\", font_size=10, font_weight=\"bold\")\n",
    "plt.show()"
   ]
  },
  {
   "cell_type": "code",
   "execution_count": 31,
   "metadata": {},
   "outputs": [
    {
     "name": "stdout",
     "output_type": "stream",
     "text": [
      "0-0-0-0-0-0-3-8-16-18\n"
     ]
    }
   ],
   "source": [
    "H = nx.complete_bipartite_graph(2,3)\n",
    "H.add_node('5')\n",
    "G = nx.complete_graph(6)\n",
    "P = dn.Graph_Ideal(G, nx.DiGraph(), 1)\n",
    "print(dn.graph_to_node(H,P))"
   ]
  },
  {
   "cell_type": "code",
   "execution_count": 4,
   "metadata": {},
   "outputs": [],
   "source": [
    "#compute the ramsey set of the graph and build its json\n",
    "G = nx.complete_graph(6)\n",
    "ramsey_set = dn.down_arrow_ramsey_set(G)\n",
    "\n",
    "json_ramsey_set = {'toHighlight': list(ramsey_set)}\n",
    "\n",
    "json_str = json.dumps(json_ramsey_set, indent=2)\n",
    "with open('ramsey_set.json', 'w') as f:\n",
    "    json.dump(json_ramsey_set, f, indent=2)"
   ]
  },
  {
   "cell_type": "code",
   "execution_count": 8,
   "metadata": {},
   "outputs": [],
   "source": [
    "\n",
    "json_ramsey_set = {'toHighlight': list(ramsey_set)}\n",
    "\n",
    "json_str = json.dumps(json_ramsey_set, indent=2)\n",
    "with open('ramsey_set.json', 'w') as f:\n",
    "    json.dump(json_ramsey_set, f, indent=2)"
   ]
  },
  {
   "cell_type": "code",
   "execution_count": 76,
   "metadata": {},
   "outputs": [],
   "source": [
    "P = dn.Graph_Ideal(nx.complete_graph(6), nx.DiGraph(), 1)\n",
    "graphs = nx.get_node_attributes(P, 'graph')\n",
    "ramsey_set_graphs = []\n",
    "for node in ramsey_set:\n",
    "    ramsey_set_graphs.append(graphs[node])"
   ]
  }
 ],
 "metadata": {
  "kernelspec": {
   "display_name": "Python 3",
   "language": "python",
   "name": "python3"
  },
  "language_info": {
   "codemirror_mode": {
    "name": "ipython",
    "version": 3
   },
   "file_extension": ".py",
   "mimetype": "text/x-python",
   "name": "python",
   "nbconvert_exporter": "python",
   "pygments_lexer": "ipython3",
   "version": "3.12.2"
  }
 },
 "nbformat": 4,
 "nbformat_minor": 2
}
