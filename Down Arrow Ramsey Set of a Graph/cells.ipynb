{
 "cells": [
  {
   "cell_type": "code",
   "execution_count": 1,
   "metadata": {},
   "outputs": [],
   "source": [
    "import matplotlib.pyplot as plt\n",
    "import networkx as nx\n",
    "import numpy as np\n",
    "import json\n",
    "import DownArrow as dn"
   ]
  },
  {
   "cell_type": "code",
   "execution_count": 5,
   "metadata": {},
   "outputs": [],
   "source": [
    "G = nx.complete_graph(6) # choose graph\n",
    "\n",
    "P = dn.Graph_Ideal(G, nx.DiGraph(), 1) #generate the ideal\n",
    "\n",
    "#diagnostic graphs = nx.get_node_attributes(P, \"graph\")\n",
    "\n",
    "positions = dn.calculate_positions(P)\n",
    "\n",
    "dn.build_and_print_json(P) #generates the json file for the ideal\n",
    "\n",
    "\n",
    "#nx.draw_networkx(P, pos=nx.spring_layout(P), with_labels=True)"
   ]
  },
  {
   "cell_type": "code",
   "execution_count": null,
   "metadata": {},
   "outputs": [],
   "source": [
    "#run this cell for a preview drawing\n",
    "plt.figure(figsize=(20, 30))\n",
    "nx.draw_networkx(P, pos=positions, with_labels=True, node_size=700, node_color=\"lightblue\", font_size=10, font_weight=\"bold\")\n",
    "plt.show()"
   ]
  },
  {
   "cell_type": "code",
   "execution_count": 9,
   "metadata": {},
   "outputs": [],
   "source": [
    "json_data = {'vertices': {}, 'edges': list(P.edges())}\n",
    "pos = calculate_positions(P)\n",
    "for node, data in P.nodes(data=True):\n",
    "    nested_graph = data['graph']\n",
    "    json_data['vertices'][node] = {\n",
    "        'position': {\n",
    "            'x': pos[node][0],\n",
    "            'y': pos[node][1]\n",
    "        },\n",
    "        'associated_graph': graph_to_json_structure(nested_graph)\n",
    "    }\n",
    "\n",
    "json_str = json.dumps(json_data, indent=2)\n",
    "with open('graph_data.json', 'w') as f:\n",
    "    json.dump(json_data, f, indent=2)"
   ]
  }
 ],
 "metadata": {
  "kernelspec": {
   "display_name": "Python 3",
   "language": "python",
   "name": "python3"
  },
  "language_info": {
   "codemirror_mode": {
    "name": "ipython",
    "version": 3
   },
   "file_extension": ".py",
   "mimetype": "text/x-python",
   "name": "python",
   "nbconvert_exporter": "python",
   "pygments_lexer": "ipython3",
   "version": "3.12.2"
  }
 },
 "nbformat": 4,
 "nbformat_minor": 2
}
