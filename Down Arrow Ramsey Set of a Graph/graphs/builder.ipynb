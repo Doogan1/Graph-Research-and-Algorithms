{
 "cells": [
  {
   "cell_type": "code",
   "execution_count": 3,
   "metadata": {},
   "outputs": [],
   "source": [
    "import matplotlib.pyplot as plt\n",
    "import networkx as nx\n",
    "import numpy as np\n",
    "import json\n",
    "import sys\n",
    "sys.path.append(r'C:\\Users\\Drake\\Graph Research and Algorithms\\Down Arrow Ramsey Set of a Graph')\n",
    "import DownArrow as dn"
   ]
  },
  {
   "cell_type": "code",
   "execution_count": 8,
   "metadata": {},
   "outputs": [
    {
     "ename": "AttributeError",
     "evalue": "'int' object has no attribute 'count'",
     "output_type": "error",
     "traceback": [
      "\u001b[1;31m---------------------------------------------------------------------------\u001b[0m",
      "\u001b[1;31mAttributeError\u001b[0m                            Traceback (most recent call last)",
      "Cell \u001b[1;32mIn[8], line 1\u001b[0m\n\u001b[1;32m----> 1\u001b[0m \u001b[43mdn\u001b[49m\u001b[38;5;241;43m.\u001b[39;49m\u001b[43mbuild_and_print_json\u001b[49m\u001b[43m(\u001b[49m\u001b[43mnx\u001b[49m\u001b[38;5;241;43m.\u001b[39;49m\u001b[43mcomplete_graph\u001b[49m\u001b[43m(\u001b[49m\u001b[38;5;241;43m5\u001b[39;49m\u001b[43m)\u001b[49m\u001b[43m)\u001b[49m\n",
      "File \u001b[1;32m~\\Graph Research and Algorithms\\Down Arrow Ramsey Set of a Graph\\DownArrow.py:175\u001b[0m, in \u001b[0;36mbuild_and_print_json\u001b[1;34m(P)\u001b[0m\n\u001b[0;32m    173\u001b[0m def build_and_print_json(G):\n\u001b[0;32m    174\u001b[0m     P = Graph_Ideal(G, nx.DiGraph(), 1) #generate the ideal\n\u001b[1;32m--> 175\u001b[0m     #diagnostic graphs = nx.get_node_attributes(P, \"graph\")\n\u001b[0;32m    176\u001b[0m     json_data = {'vertices': {}, 'edges': list(P.edges()), 'ramsey_set': []}\n\u001b[0;32m    177\u001b[0m     pos = calculate_positions(P)\n",
      "File \u001b[1;32m~\\Graph Research and Algorithms\\Down Arrow Ramsey Set of a Graph\\DownArrow.py:147\u001b[0m, in \u001b[0;36mcalculate_positions\u001b[1;34m(graph)\u001b[0m\n\u001b[0;32m    144\u001b[0m levels \u001b[38;5;241m=\u001b[39m {}  \u001b[38;5;66;03m# Keeps track of the number of nodes at each level\u001b[39;00m\n\u001b[0;32m    146\u001b[0m \u001b[38;5;28;01mfor\u001b[39;00m node \u001b[38;5;129;01min\u001b[39;00m graph\u001b[38;5;241m.\u001b[39mnodes():\n\u001b[1;32m--> 147\u001b[0m     level \u001b[38;5;241m=\u001b[39m \u001b[43mnode\u001b[49m\u001b[38;5;241;43m.\u001b[39;49m\u001b[43mcount\u001b[49m(\u001b[38;5;124m'\u001b[39m\u001b[38;5;124m-\u001b[39m\u001b[38;5;124m'\u001b[39m) \u001b[38;5;241m+\u001b[39m \u001b[38;5;241m1\u001b[39m  \u001b[38;5;66;03m# Determine level by string length\u001b[39;00m\n\u001b[0;32m    148\u001b[0m     \u001b[38;5;28;01mif\u001b[39;00m level \u001b[38;5;129;01mnot\u001b[39;00m \u001b[38;5;129;01min\u001b[39;00m levels:\n\u001b[0;32m    149\u001b[0m         levels[level] \u001b[38;5;241m=\u001b[39m \u001b[38;5;241m0\u001b[39m\n",
      "\u001b[1;31mAttributeError\u001b[0m: 'int' object has no attribute 'count'"
     ]
    }
   ],
   "source": [
    "dn.build_and_print_json(nx.complete_graph(5))"
   ]
  }
 ],
 "metadata": {
  "kernelspec": {
   "display_name": "Python 3",
   "language": "python",
   "name": "python3"
  },
  "language_info": {
   "codemirror_mode": {
    "name": "ipython",
    "version": 3
   },
   "file_extension": ".py",
   "mimetype": "text/x-python",
   "name": "python",
   "nbconvert_exporter": "python",
   "pygments_lexer": "ipython3",
   "version": "3.12.2"
  }
 },
 "nbformat": 4,
 "nbformat_minor": 2
}
