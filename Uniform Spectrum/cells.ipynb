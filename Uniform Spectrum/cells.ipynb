{
 "cells": [
  {
   "cell_type": "code",
   "execution_count": 1,
   "metadata": {},
   "outputs": [],
   "source": [
    "import networkx as nx\n",
    "import numpy as np\n",
    "from functools import reduce"
   ]
  },
  {
   "cell_type": "code",
   "execution_count": 64,
   "metadata": {},
   "outputs": [],
   "source": [
    "def uniform_spectrum(G):\n",
    "    node_set = G.nodes()\n",
    "    pairs_of_nodes = {(x,y) for x in node_set for y in node_set if x < y}\n",
    "    paths = {}\n",
    "    for (u,v) in pairs_of_nodes:\n",
    "        paths[(u,v)] = set(map(len,list(nx.all_simple_paths(G, u, v))))\n",
    "    return list(map(lambda a: a-1,reduce(lambda a, b: b.intersection(a),paths.values())))"
   ]
  },
  {
   "cell_type": "code",
   "execution_count": 3,
   "metadata": {},
   "outputs": [],
   "source": [
    "G = nx.petersen_graph()"
   ]
  },
  {
   "cell_type": "code",
   "execution_count": 38,
   "metadata": {},
   "outputs": [
    {
     "data": {
      "text/plain": [
       "int"
      ]
     },
     "execution_count": 38,
     "metadata": {},
     "output_type": "execute_result"
    }
   ],
   "source": [
    "nodes = list(G.nodes())\n",
    "type(nodes[0])"
   ]
  },
  {
   "cell_type": "code",
   "execution_count": 12,
   "metadata": {},
   "outputs": [
    {
     "name": "stdout",
     "output_type": "stream",
     "text": [
      "[0, 4]\n"
     ]
    }
   ],
   "source": [
    "paths_of_length_4 = [path for path in nx.all_simple_paths(G, 0, 4) if len(path) == 2]\n",
    "for path in paths_of_length_4:\n",
    "    print(path)"
   ]
  },
  {
   "cell_type": "code",
   "execution_count": 60,
   "metadata": {},
   "outputs": [],
   "source": [
    "node_set = G.nodes()\n",
    "pairs_of_nodes = {(x,y) for x in node_set for y in node_set if x < y}\n",
    "paths = {}\n",
    "for (u,v) in pairs_of_nodes:\n",
    "    paths[(u,v)] = set(map(len,list(nx.all_simple_paths(G, u, v))))\n",
    "uniform_spectrum = map(lambda a: a-1,reduce(lambda a, b: b.intersection(a),paths.values()))\n",
    "\n",
    "\n"
   ]
  },
  {
   "cell_type": "code",
   "execution_count": 78,
   "metadata": {},
   "outputs": [
    {
     "name": "stdout",
     "output_type": "stream",
     "text": [
      "[1, 2, 3, 4, 5, 6, 7, 8, 9]\n"
     ]
    }
   ],
   "source": [
    "print(uniform_spectrum(nx.complete_graph(10)))"
   ]
  }
 ],
 "metadata": {
  "kernelspec": {
   "display_name": "Python 3",
   "language": "python",
   "name": "python3"
  },
  "language_info": {
   "codemirror_mode": {
    "name": "ipython",
    "version": 3
   },
   "file_extension": ".py",
   "mimetype": "text/x-python",
   "name": "python",
   "nbconvert_exporter": "python",
   "pygments_lexer": "ipython3",
   "version": "3.12.2"
  }
 },
 "nbformat": 4,
 "nbformat_minor": 2
}
